{
 "cells": [
  {
   "cell_type": "code",
   "execution_count": null,
   "id": "2f6462b5",
   "metadata": {},
   "outputs": [],
   "source": [
    "#Libreria a importar\n",
    "#Pandas para el manejo del archivo CSV y de los Dataframe\n",
    "import pandas as pd \n",
    "# Libreria para realizar la conexiòn a la base de datos de postgresql,\n",
    "import psycopg2 # DML(\"Select, Insert, Update, Delete) DDL(Create, Alter, Drop)"
   ]
  },
  {
   "cell_type": "code",
   "execution_count": null,
   "id": "f4249446",
   "metadata": {},
   "outputs": [],
   "source": [
    "#Agregamos los parametro que necesitamos, host, puerto, databse, usuario y contraseá\n",
    "params = {\n",
    "    \"host\": \"localhost\",\n",
    "    \"port\": \"5000\",\n",
    "    \"database\": \"Prueba\",\n",
    "    \"user\": \"postgres\",\n",
    "    \"password\": \"admin\",\n",
    "}\n",
    "\n",
    "# Establece una conexión a la base de datos\n",
    "conn = psycopg2.connect(**params)\n",
    "\n",
    "# Define la consulta SQL que quieres enviar\n",
    "query = \" \"\n",
    "\n",
    "# Crea un cursor para ejecutar la consulta SQL\n",
    "cursor = conn.cursor()\n",
    "\n"
   ]
  },
  {
   "cell_type": "code",
   "execution_count": null,
   "id": "29f7cb89",
   "metadata": {},
   "outputs": [],
   "source": [
    "prueba = pd.read_csv(\"Prueba.csv\", sep = '|') #Cargamos el archivo csv, que en este caso lo cree delimitado por |"
   ]
  },
  {
   "cell_type": "code",
   "execution_count": null,
   "id": "0ac038c9",
   "metadata": {},
   "outputs": [],
   "source": [
    "#prueba = prueba[prueba['Nombre_origen'] == 'personas' ]  # Se filtra la tabla en el campo Nombre_origen por el origen que deseemos"
   ]
  },
  {
   "cell_type": "code",
   "execution_count": null,
   "id": "8638b595",
   "metadata": {},
   "outputs": [],
   "source": [
    "unicos = prueba['nombre_dest'].unique() #Obtenemos los valores unicos de la tabla prueba en el campo nombre_dest\n",
    "# y de esta forma podemos realizar la lista con los nombres de las tablas a crear"
   ]
  },
  {
   "cell_type": "code",
   "execution_count": null,
   "id": "22b93c20",
   "metadata": {},
   "outputs": [],
   "source": [
    "#Vamos a realizar un ciclo for para filtar la tabla segùn corresponda la empresa, crear el script y crear la tabla en base de datos\n",
    "for i in unicos:\n",
    "    var = i # Agregamos el valor i, el cual contiene el registro actual de la lista\n",
    "    locals()[var] = prueba[prueba['nombre_dest'] == i] #Filtramos la tabla en el campo nombre_dest, por la empresa que estamos iterando\n",
    "    locals()[var] = locals()[var][['campo', 'tipo']]#Asignamos a la variable var que tenemos de manera local dentro del for solamente los campos, campo y tipo.\n",
    "    locals()[var] = [tuple(x) for x in locals()[var].to_records(index=False)]#Hacemos una lista con los datos obtenidos en nuestro Dataframe\n",
    "    #En este paso Realizamos el Script, asignandoselo a la variable local \"var\" y de esta manera aseguramos que el script va a quedar cargado\n",
    "    #en una varible con el nombre de cada emppres, adicionalmente usamos un for para recorrer la lista creada en el paso anterior\n",
    "    #y esta nos va a devolver uno a uno los registros los cuales los vamos a concatenar con la funcion .join\n",
    "    #Realizamos un salto de linea con \\n y le concatenamos el texto CREATE TABLE IF NOT EXISTS {i}\n",
    "    #En donde {i} es el valor de la varible local, en este caso el nombre de cada empresa\n",
    "    locals()[var] = f'CREATE TABLE IF NOT EXISTS {i}(\\n'+',\\n'.join([f'{empr[0]} {empr[1]}' for empr in locals()[var]])+');'\n",
    "    #Realizamos un Try except para ejecutar creaciòn de la tabla en la base de datos Prueba y en caso de que nos genere un error\n",
    "    # nos arroje un mensaje con e error que surgiò\n",
    "    try:\n",
    "        # Ejecuta la consulta SQL local en cada una de las iteraciones\n",
    "        cursor.execute(locals()[var])\n",
    "\n",
    "        # Se realiza la confirmaciòn a la base de datos para que cree la tabla\n",
    "        conn.commit()\n",
    "        # Mensaje de confirmacion de la base de datos\n",
    "        print(\"Ejecuciòn correcta\")\n",
    "\n",
    "    except (Exception, psycopg2.DatabaseError) as error:\n",
    "        # Si ocurre un error, deshace los cambios en la base de datos\n",
    "        conn.rollback()\n",
    "        print(f\"Error en la ejecuciòn: {error}\") #Imprimimos un mensaje con el error que sucediò\n",
    "    \n",
    "cursor.close()\n",
    "conn.close()"
   ]
  },
  {
   "cell_type": "code",
   "execution_count": null,
   "id": "e5b67bce",
   "metadata": {},
   "outputs": [],
   "source": [
    "'''\n",
    "#insertar datos\n",
    "consulta = \"INSERT INTO tabla1 (id, nombre) VALUES ('7', 'm'), ('4','n');\" #Prueba de insertar de datos\n",
    "cursor.execute(consulta) #mediante el metodo cursor realizamos la inserciòn\n",
    "conn.commit() #Realizamos la confirmaciòn a la base de datos\n",
    "'''\n",
    "'''\n",
    "#Leer datos\n",
    "consulta = \"Select * from tabla1;\" #Consulta SELECT que vamos a realizar de prueba\n",
    "cursor.execute(consulta) mediante el metodo cursor realizamos la consulta\n",
    "datos = pd.DataFrame(cursor.fetchall()) #Asignamos el resultado que traemos con el metodo fetchall  a un dataframe.\n",
    "'''"
   ]
  }
 ],
 "metadata": {
  "kernelspec": {
   "display_name": "Python 3 (ipykernel)",
   "language": "python",
   "name": "python3"
  },
  "language_info": {
   "codemirror_mode": {
    "name": "ipython",
    "version": 3
   },
   "file_extension": ".py",
   "mimetype": "text/x-python",
   "name": "python",
   "nbconvert_exporter": "python",
   "pygments_lexer": "ipython3",
   "version": "3.9.12"
  }
 },
 "nbformat": 4,
 "nbformat_minor": 5
}
